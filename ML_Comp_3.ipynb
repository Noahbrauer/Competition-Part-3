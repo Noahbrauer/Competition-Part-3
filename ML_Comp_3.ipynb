{
  "nbformat": 4,
  "nbformat_minor": 0,
  "metadata": {
    "colab": {
      "name": "ML Comp 3",
      "provenance": [],
      "collapsed_sections": [],
      "machine_shape": "hm",
      "include_colab_link": true
    },
    "kernelspec": {
      "name": "python3",
      "display_name": "Python 3"
    },
    "accelerator": "GPU"
  },
  "cells": [
    {
      "cell_type": "markdown",
      "metadata": {
        "id": "view-in-github",
        "colab_type": "text"
      },
      "source": [
        "<a href=\"https://colab.research.google.com/github/Noahbrauer/Competition-Part-3/blob/master/ML_Comp_3.ipynb\" target=\"_parent\"><img src=\"https://colab.research.google.com/assets/colab-badge.svg\" alt=\"Open In Colab\"/></a>"
      ]
    },
    {
      "cell_type": "code",
      "metadata": {
        "id": "80Zw-RzVzNBW",
        "colab_type": "code",
        "colab": {}
      },
      "source": [
        "import numpy as np\n",
        "import pandas as pd\n",
        "import matplotlib.pyplot as plt\n",
        "from sklearn import metrics\n",
        "from sklearn import preprocessing\n",
        "from sklearn.ensemble  import RandomForestClassifier\n",
        "from sklearn.ensemble import RandomForestRegressor\n",
        "from sklearn.model_selection import train_test_split\n",
        "from sklearn.preprocessing import StandardScaler\n",
        "from sklearn.model_selection import RandomizedSearchCV\n",
        "\n",
        "X_train = np.loadtxt('train_features.csv', skiprows=1, delimiter=',')\n",
        "X_test = np.loadtxt('test_features.csv', skiprows=1, delimiter=',')\n",
        "y_train = np.loadtxt('train_values.csv', skiprows=1, delimiter=',').astype('int32')\n",
        "\n",
        "#Trying to find a better way to classify day of year as a cyclical value\n",
        "def cyclical(inFile):\n",
        "  df = pd.read_csv(inFile,  ',', index_col=0)\n",
        "  df1 = pd.to_datetime(df[['day', 'month', 'year']])\n",
        "  dfTemp = df1.dt.dayofyear\n",
        "  temp1 = np.sin(2*np.pi*dfTemp/366)\n",
        "  temp2 = np.cos(2*np.pi*dfTemp/366)\n",
        "  d = {'sin_date': temp1, 'cos_date': temp2,  'date': df1}\n",
        "  df1 = pd.DataFrame(data=d)\n",
        "  df1 = df1[['sin_date', 'cos_date', 'date']]\n",
        "  result = pd.concat([df[['decimalLatitude','decimalLongitude']], df1], axis=1)\n",
        "  result_train = (result.sort_values(by='date')).to_numpy()[:,:-1]\n",
        "  return result_train\n",
        "\n",
        "#Handle ID column\n",
        "X_train = cyclical('train_features.csv')\n",
        "y_train = y_train[:,1:]\n",
        "X_test_labels = X_test[:,(0,)]\n",
        "X_test = cyclical('test_features.csv')\n",
        "\n",
        "#Scaling all the values\n",
        "sc = StandardScaler()\n",
        "X_train = sc.fit_transform(X_train)\n",
        "X_test = sc.transform(X_test)\n",
        "\n",
        "X_new_train, X_new_test, y_new_train, y_new_test = train_test_split(X_train, y_train, test_size=0.33, random_state=42)"
      ],
      "execution_count": null,
      "outputs": []
    },
    {
      "cell_type": "code",
      "metadata": {
        "id": "IeaRH0X_vZT3",
        "colab_type": "code",
        "colab": {
          "base_uri": "https://localhost:8080/",
          "height": 143
        },
        "outputId": "ba59128c-da3b-4bce-a3b0-750635555b25"
      },
      "source": [
        "clf = RandomForestClassifier(bootstrap=True, max_depth=30,max_features='sqrt', min_impurity_decrease=0.0, min_samples_leaf=1, min_samples_split=5, min_weight_fraction_leaf=0.0, n_estimators=1400,verbose=0)\n",
        "clf.fit(X_new_train, y_new_train)\n",
        "lab_enc = preprocessing.LabelEncoder()\n",
        "predict = clf.predict(X_new_train)\n",
        "print(predict)\n",
        "print(lab_enc.fit_transform(y_new_train))"
      ],
      "execution_count": null,
      "outputs": [
        {
          "output_type": "stream",
          "text": [
            "/usr/local/lib/python3.6/dist-packages/ipykernel_launcher.py:2: DataConversionWarning: A column-vector y was passed when a 1d array was expected. Please change the shape of y to (n_samples,), for example using ravel().\n",
            "  \n"
          ],
          "name": "stderr"
        },
        {
          "output_type": "stream",
          "text": [
            "[8 3 4 ... 6 0 7]\n",
            "[8 8 9 ... 1 0 7]\n"
          ],
          "name": "stdout"
        },
        {
          "output_type": "stream",
          "text": [
            "/usr/local/lib/python3.6/dist-packages/sklearn/preprocessing/label.py:235: DataConversionWarning: A column-vector y was passed when a 1d array was expected. Please change the shape of y to (n_samples, ), for example using ravel().\n",
            "  y = column_or_1d(y, warn=True)\n"
          ],
          "name": "stderr"
        }
      ]
    },
    {
      "cell_type": "code",
      "metadata": {
        "id": "PbnQoR_Gc-M6",
        "colab_type": "code",
        "colab": {
          "base_uri": "https://localhost:8080/",
          "height": 125
        },
        "outputId": "ed0f098d-7097-42cf-a743-d72bf5fc393d"
      },
      "source": [
        "\n",
        "from sklearn.metrics import accuracy_score\n",
        "print(predict)\n",
        "print(lab_enc.fit_transform(y_new_train))\n",
        "score = accuracy_score(predict,lab_enc.fit_transform(y_new_train))\n",
        "print(score)\n",
        "\n",
        "print(acc)\n",
        "print(X_new_test)\n",
        "print(y_new_test)acc = clf.score(X\n",
        "predw_test,predictw_test)"
      ],
      "execution_count": null,
      "outputs": [
        {
          "output_type": "stream",
          "text": [
            "[8 3 4 ... 6 0 7]\n",
            "[8 8 9 ... 1 0 7]\n",
            "0.3823238239481894\n"
          ],
          "name": "stdout"
        },
        {
          "output_type": "stream",
          "text": [
            "/usr/local/lib/python3.6/dist-packages/sklearn/preprocessing/label.py:235: DataConversionWarning: A column-vector y was passed when a 1d array was expected. Please change the shape of y to (n_samples, ), for example using ravel().\n",
            "  y = column_or_1d(y, warn=True)\n"
          ],
          "name": "stderr"
        }
      ]
    },
    {
      "cell_type": "code",
      "metadata": {
        "id": "jmYRgTSQaGio",
        "colab_type": "code",
        "colab": {}
      },
      "source": [
        ""
      ],
      "execution_count": null,
      "outputs": []
    },
    {
      "cell_type": "code",
      "metadata": {
        "colab_type": "code",
        "id": "A1FC36Bjp7Ue",
        "colab": {}
      },
      "source": [
        "# This was the code i used for testing, I deleted it but readded it for submission\n",
        "\n",
        "# Number of trees in random forest\n",
        "n_estimators = [int(x) for x in np.linspace(start = 50, stop = 1500, num = 10)]\n",
        "# Number of features to consider at every split\n",
        "max_features = ['auto', 'sqrt']\n",
        "# Maximum number of levels in tree\n",
        "max_depth = [int(x) for x in np.linspace(10, 110, num = 11)]\n",
        "max_depth.append(None)\n",
        "# Minimum number of samples required to split a node\n",
        "min_samples_split = [2, 5, 10]\n",
        "# Minimum number of samples required at each leaf node\n",
        "min_samples_leaf = [1, 2, 4]\n",
        "# Method of selecting samples for training each tree\n",
        "bootstrap = [True, False]\n",
        "# Create the random grid\n",
        "random_grid = {'n_estimators': n_estimators,\n",
        "               'max_features': max_features,\n",
        "               'max_depth': max_depth,\n",
        "               'min_samples_split': min_samples_split,\n",
        "               'min_samples_leaf': min_samples_leaf,\n",
        "               'bootstrap': bootstrap}\n",
        "\n",
        "rf = RandomForestRegressor()\n",
        "rf_random = RandomizedSearchCV(estimator = rf, param_distributions = random_grid, n_iter = 100, cv = 3, verbose=2, random_state=42, n_jobs = -1)\n",
        "rf_random.fit(train_features, train_labels)"
      ],
      "execution_count": null,
      "outputs": []
    }
  ]
}